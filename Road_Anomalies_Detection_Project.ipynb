{
  "nbformat": 4,
  "nbformat_minor": 0,
  "metadata": {
    "colab": {
      "name": "Road_Anomalies_Detection_Project.ipynb",
      "provenance": [],
      "collapsed_sections": [],
      "authorship_tag": "ABX9TyPzdXpu6BnV8j6LfxyF6YJI",
      "include_colab_link": true
    },
    "kernelspec": {
      "name": "python3",
      "display_name": "Python 3"
    },
    "language_info": {
      "name": "python"
    }
  },
  "cells": [
    {
      "cell_type": "markdown",
      "metadata": {
        "id": "view-in-github",
        "colab_type": "text"
      },
      "source": [
        "<a href=\"https://colab.research.google.com/github/imenFerjani/Road-Anomalies-Detection/blob/main/Road_Anomalies_Detection_Project.ipynb\" target=\"_parent\"><img src=\"https://colab.research.google.com/assets/colab-badge.svg\" alt=\"Open In Colab\"/></a>"
      ]
    },
    {
      "cell_type": "markdown",
      "metadata": {
        "id": "HyigOqwRtSdC"
      },
      "source": [
        "Title:  Road Anomalies source code\n",
        " Description: Extracting features (time domain, frequency domain and time-frequency domain) and fed them to three types of machine learning models: Neural Network, Support Vector Machine and Decision Tree)\n",
        "\n",
        "** Author: Eman Ferjani**\n",
        " Date:   April, 1, 2021"
      ]
    },
    {
      "cell_type": "code",
      "metadata": {
        "id": "lRCo7bRkCw4O"
      },
      "source": [
        "import pandas as pd\n",
        "from sklearn.ensemble import *\n",
        "from sklearn.tree import *\n",
        "import numpy as np\n",
        "import scipy\n",
        "import matplotlib.pyplot as plt\n",
        "from sklearn.feature_selection import *\n",
        "from sklearn.preprocessing import *\n",
        "from sklearn.model_selection import *\n",
        "from sklearn.linear_model import *\n",
        "from sklearn.naive_bayes import *\n",
        "from sklearn.svm import *\n",
        "from sklearn.neighbors import *\n",
        "from sklearn.tree import *\n",
        "from sklearn.metrics import *\n",
        "import time\n",
        "import warnings\n",
        "warnings.filterwarnings(\"ignore\")\n",
        "import pywt\n",
        "from numpy.testing import assert_array_almost_equal\n"
      ],
      "execution_count": null,
      "outputs": []
    },
    {
      "cell_type": "code",
      "metadata": {
        "id": "DccwuH3AZ0WU"
      },
      "source": [
        "from sklearn import svm\n",
        "from sklearn.neural_network import MLPClassifier\n",
        "from sklearn.model_selection import cross_val_score\n",
        "from sklearn.tree import DecisionTreeClassifier\n",
        "from sklearn import preprocessing\n",
        "import numpy as np\n",
        "from sklearn import metrics\n",
        "from sklearn.metrics import confusion_matrix"
      ],
      "execution_count": null,
      "outputs": []
    },
    {
      "cell_type": "code",
      "metadata": {
        "id": "vHjHtE6HRqjJ"
      },
      "source": [
        "from itertools import islice\n",
        "from collections import deque\n",
        "from pylab import *\n",
        "from math import sqrt\n",
        "import numpy as np\n",
        "from tqdm import tqdm\n",
        "import sys\n",
        "import json\n",
        "import matplotlib.pyplot as plt\n",
        "from scipy.signal import butter, lfilter, freqz\n",
        "import scipy, scipy.signal\n",
        "import pywt\n",
        "import pandas as pd\n",
        "from scipy.signal import savgol_filter"
      ],
      "execution_count": null,
      "outputs": []
    },
    {
      "cell_type": "code",
      "metadata": {
        "id": "q42F2PsYM0SN",
        "colab": {
          "base_uri": "https://localhost:8080/"
        },
        "outputId": "2cfd33f1-34dc-4264-c4c8-3aebcffe39e5"
      },
      "source": [
        "# Datasets are stored in MyDrive\n",
        "from google.colab import drive\n",
        "drive.mount('/content/gdrive')"
      ],
      "execution_count": null,
      "outputs": [
        {
          "output_type": "stream",
          "text": [
            "Mounted at /content/gdrive\n"
          ],
          "name": "stdout"
        }
      ]
    },
    {
      "cell_type": "code",
      "metadata": {
        "id": "uiwLiQbylund"
      },
      "source": [
        "w=30"
      ],
      "execution_count": null,
      "outputs": []
    },
    {
      "cell_type": "code",
      "metadata": {
        "id": "iSCvk3HVLEJH"
      },
      "source": [
        "def window(a,copy = False):\n",
        "    a=np.array(a)\n",
        "    sh = (a.size - w + 1, w)\n",
        "    st = a.strides * 2\n",
        "    view = np.lib.stride_tricks.as_strided(a, strides = st, shape = sh)[0::w//2]\n",
        "    view=[list(i) for i in view]\n",
        "    if copy:\n",
        "        return view.copy()\n",
        "    else:\n",
        "        return view"
      ],
      "execution_count": null,
      "outputs": []
    },
    {
      "cell_type": "code",
      "metadata": {
        "id": "Yk6UPzrsBhro"
      },
      "source": [
        "time=['mean','IS','var','stdev','cv','med','rang','RMS','entropy']\n",
        "frequency=['DC_Feature','Med_freq','max_freq','min_freq','mean_power','total_power','energy_feature']\n",
        "wavelt=['Wave1','Wave2','Wave3','Wave4','Wave5','Wave6','Wave7','Wave8','Wave9','Wave10','Wave11',\n",
        "               'Wave12','Wave13','Wave14','Wave15']\n",
        "feature_names= time+wavelt +['Anomaly']"
      ],
      "execution_count": null,
      "outputs": []
    },
    {
      "cell_type": "code",
      "metadata": {
        "id": "GTZi-x654rMi"
      },
      "source": [
        "from pandas.core.algorithms import *\n",
        "from scipy.stats import *\n",
        "def extract_features(sublist,t,f,wa):\n",
        "  features11=[]\n",
        "  if t:\n",
        "    mean = sum(sublist) / len(sublist)\n",
        "    sum1= sum([(float(j) - mean)**2 for j in sublist])\n",
        "    sum2= sum([float(j)**2 for j in sublist])\n",
        "    IS = sum2/len(sublist)      \n",
        "    var = float(sum1) / (len(sublist) - 1) # Variance\n",
        "    stdev = sqrt(var) # Standard deviation\n",
        "    cv = stdev / mean # Coefficient of variation\n",
        "    med = median(sublist) # median\n",
        "    rang = max(sublist) - min(sublist) # range    \n",
        "    RMS = math.sqrt(sum2/len(sublist)) # Root Mean Square\n",
        "    pd_series = pd.Series(sublist)\n",
        "    counts = pd_series.value_counts()\n",
        "    ent = entropy(counts)\n",
        "    features11.extend([mean,IS,var,stdev,cv,med,rang,RMS,ent])\n",
        "  if f:\n",
        "    DC_Feature = scipy.fft.dct(sublist)[0]\n",
        "    sig_fft=list(scipy.fft.fft(sublist))\n",
        "    Med_freq = 1/2*sum(sig_fft)\n",
        "    max_freq = max(sig_fft)\n",
        "    min_freq = min(sig_fft)\n",
        "    mean_power = sum(sig_fft)/len(sig_fft)\n",
        "    total_power = sum(sig_fft)\n",
        "    energy_feature=sum(np.abs(sig_fft)**2)\n",
        "    features11.extend([DC_Feature,Med_freq,max_freq,min_freq,mean_power,total_power,energy_feature])\n",
        "  if wa:\n",
        "    cA1,cD11 = pywt.wavedec(sublist, wavelet='db2', level=1)\n",
        "    cA2, cD22, cD12 = pywt.wavedec(sublist, wavelet='db2', level=2)\n",
        "    cA3, cD33, cD23, cD13 = pywt.wavedec(sublist, wavelet='db2', level=3)\n",
        "    cA4, cD44,cD34,cD24, cD14 = pywt.wavedec(sublist, wavelet='db2', level=4)\n",
        "    cA5, cD55,cD45,cD35,cD25, cD15 = pywt.wavedec(sublist, wavelet='db2', level=5)\n",
        "\t\t#arr, coeff_slices, coeff_shapes = pywt.ravel_coeffs(coeffs)\n",
        "#print(arr)\n",
        "    Wave1=np.sum(np.square(cD11))\n",
        "    Wave2=np.sum(np.square(cD22))\n",
        "    Wave3=np.sum(np.square(cD12))\n",
        "    Wave4=np.sum(np.square(cD33))\n",
        "    Wave5=np.sum(np.square(cD23))\n",
        "    Wave6=np.sum(np.square(cD13))\n",
        "    Wave7=np.sum(np.square(cD44))\n",
        "    Wave8=np.sum(np.square(cD34))\n",
        "    Wave9=np.sum(np.square(cD24))\n",
        "    Wave10=np.sum(np.square(cD14))\n",
        "    Wave11=np.sum(np.square(cD55))\n",
        "    Wave12=np.sum(np.square(cD45))\n",
        "    Wave13=np.sum(np.square(cD35))\n",
        "    Wave14=np.sum(np.square(cD25))\n",
        "    Wave15=np.sum(np.square(cD15))\n",
        "    features11.extend([Wave1,Wave2,Wave3,Wave4,Wave5,Wave6,Wave7,Wave8,Wave9,Wave10,Wave11,Wave12,Wave13,Wave14,Wave15])\n",
        "  return [float(i) for i in features11]"
      ],
      "execution_count": null,
      "outputs": []
    },
    {
      "cell_type": "code",
      "metadata": {
        "id": "t7YGvOOn3kK7"
      },
      "source": [
        "def find_position(j,sublist,sliding_window_list):\n",
        "  return len(sublist)*j+len(sublist)//2 - w//2 * j"
      ],
      "execution_count": null,
      "outputs": []
    },
    {
      "cell_type": "code",
      "metadata": {
        "colab": {
          "base_uri": "https://localhost:8080/"
        },
        "id": "34eV3XBqbL4L",
        "outputId": "d263b033-5687-438d-de1d-9368a8a28659"
      },
      "source": [
        "import pandas as pd\n",
        "from sklearn.model_selection import train_test_split\n",
        "import os\n",
        "from sklearn import svm\n",
        "from sklearn import metrics\n",
        "from sklearn.metrics import confusion_matrix\n",
        "#def process_database1():\n",
        "d=[]\n",
        "for filename in os.listdir('./gdrive/MyDrive/Road_Anomalies_Datasets/Acceleromter_data1/data/Training/'):\n",
        "  if filename.endswith(\".json\"): \n",
        "    filename = os.path.join('./gdrive/MyDrive/Road_Anomalies_Datasets/Acceleromter_data1/data/Training/', filename)\n",
        "    with open(filename) as f:\n",
        "      data = json.load(f)\n",
        "      rot_acc_z = data['rot_acc_z']\n",
        "      #rot_acc_x = data['rot_acc_x']\n",
        "      #rot_acc_y = data['rot_acc_y']\n",
        "      #rot_acc_z=rot_acc_z+rot_acc_y\n",
        "      pos=0        \n",
        "      sliding_window_list = window(rot_acc_z,copy = True)\n",
        "      for j,sublist in enumerate(sliding_window_list):\n",
        "        #mean = sum(sublist) / len(sublist) #Mean\n",
        "        features=extract_features(sublist,t=True,f=False,wa=True)\n",
        "        found=False\n",
        "        pos=find_position(j,sublist,sliding_window_list)\n",
        "        for a in data['anomalies']:\n",
        "          if((a['start']+w//2) <= pos <= (a['end']-w//2)):\n",
        "            found=True\n",
        "            break\n",
        "        if found:\n",
        "          label=a['type']\n",
        "        else:\n",
        "          label='no anomaly'\n",
        "        d.append([item for item in features]+[label])\n",
        "for filename in os.listdir('./gdrive/MyDrive/Road_Anomalies_Datasets/Acceleromter_data1/data/Test/'):\n",
        "  if filename.endswith(\".json\"): \n",
        "    filename = os.path.join('./gdrive/MyDrive/Road_Anomalies_Datasets/Acceleromter_data1/data/Test/', filename)\n",
        "    with open(filename) as f:\n",
        "      data = json.load(f)\n",
        "      rot_acc_z = data['rot_acc_z']\n",
        "      #rot_acc_x = data['rot_acc_x']\n",
        "      #rot_acc_y = data['rot_acc_y']\n",
        "      #rot_acc_z=rot_acc_z+rot_acc_y\n",
        "      pos=0        \n",
        "      sliding_window_list = window(rot_acc_z,copy = True)\n",
        "      for j,sublist in enumerate(sliding_window_list):\n",
        "        #mean = sum(sublist) / len(sublist) #Mean\n",
        "        features=extract_features(sublist,t=True,f=False,wa=True)\n",
        "        found=False\n",
        "        pos=find_position(j,sublist,sliding_window_list)\n",
        "        for a in data['anomalies']:\n",
        "          if((a['start']+w//2) <= pos <= (a['end']-w//2)):\n",
        "            found=True\n",
        "            break\n",
        "        if found:\n",
        "          label=a['type']\n",
        "        else:\n",
        "          label='no anomaly'\n",
        "        d.append([item for item in features]+[label])\n",
        "#Create the pandas DataFrame'''\n",
        "df1 = pd.DataFrame(d, columns = feature_names)\n",
        "# converting type of columns to 'category'\n",
        "df1['Anomaly'] = df1['Anomaly'].astype('category')\n",
        "# Assigning numerical values and storing in another column\n",
        "df1['Anomaly_cat'] = df1['Anomaly'].cat.codes\n",
        "print(df1)\n",
        "#df1['Anomaly'] = df1['Anomaly'].astype('category')\n",
        "#obj_df.dtypes\n",
        "    #print(df)\n",
        "  # Import train_test_split function\n",
        "# Split dataset into training set and test set\n",
        "X_train, X_test, y_train, y_test = train_test_split(df1.iloc[:,[i for i in range(0,24)]],\n",
        "                                                      df1['Anomaly_cat'], test_size=0.3,random_state=109) # 70% training and 30% test\n",
        "clf = MLPClassifier(random_state=1, max_iter=300)\n",
        "\n",
        "#clf = svm.SVC(C=1,kernel='rbf',gamma=0.002,tol=0.001)\n",
        "#clf = DecisionTreeClassifier(random_state=0)\n",
        "clf.fit(X_train, y_train)\n",
        "\n",
        "#Predict the response for test dataset\n",
        "y_pred = clf.predict(X_test)\n",
        "  #print(\"test for w=\",w)\n",
        "print(\"*******************************************************************************************************************\")\n",
        "print(\"Accuracy:\",metrics.accuracy_score(y_test, y_pred))\n",
        "# Model Precision: what percentage of positive tuples are labeled as such?\n",
        "print(\"Precision:\",metrics.precision_score(y_test, y_pred,average='macro'))\n",
        "\n",
        "# Model Recall: what percentage of positive tuples are labelled as such?\n",
        "print(\"Recall:\",metrics.recall_score(y_test, y_pred,average='macro'))\n",
        "print(\"F1 score:\",metrics.f1_score(y_test, y_pred,average='macro'))\n",
        "print(metrics.classification_report(y_test, y_pred, target_names=['No anomaly', 'Pothole', 'Asphalt speed bump', 'Metal bumps'], sample_weight=None, digits=2, output_dict=False, zero_division='warn'))        "
      ],
      "execution_count": null,
      "outputs": [
        {
          "output_type": "stream",
          "text": [
            "           mean         IS       var  ...    Wave15     Anomaly  Anomaly_cat\n",
            "0      9.891933  97.900458  0.051841  ...  0.491935  no anomaly            3\n",
            "1      9.897100  98.025671  0.075603  ...  0.299848  no anomaly            3\n",
            "2      9.850000  97.114431  0.095101  ...  0.486788  no anomaly            3\n",
            "3      9.808100  96.281178  0.085192  ...  0.303880  no anomaly            3\n",
            "4      9.917967  98.448656  0.085442  ...  0.194855  no anomaly            3\n",
            "...         ...        ...       ...  ...       ...         ...          ...\n",
            "73212  9.665367  93.520644  0.104826  ...  0.725050  no anomaly            3\n",
            "73213  9.704500  94.290195  0.116767  ...  0.542397  no anomaly            3\n",
            "73214  9.700600  94.242968  0.146201  ...  0.813163  no anomaly            3\n",
            "73215  9.653567  93.332582  0.146103  ...  1.278614  no anomaly            3\n",
            "73216  9.745033  95.079755  0.118015  ...  0.685139  no anomaly            3\n",
            "\n",
            "[73217 rows x 26 columns]\n",
            "*******************************************************************************************************************\n",
            "Accuracy: 0.9001183647455158\n",
            "Precision: 0.6565579817723742\n",
            "Recall: 0.45676534392458784\n",
            "F1 score: 0.5186371154552446\n",
            "                    precision    recall  f1-score   support\n",
            "\n",
            "        No anomaly       0.44      0.22      0.29       759\n",
            "           Pothole       0.78      0.40      0.53      1439\n",
            "Asphalt speed bump       0.49      0.22      0.30       772\n",
            "       Metal bumps       0.92      0.99      0.95     18996\n",
            "\n",
            "          accuracy                           0.90     21966\n",
            "         macro avg       0.66      0.46      0.52     21966\n",
            "      weighted avg       0.88      0.90      0.88     21966\n",
            "\n"
          ],
          "name": "stdout"
        }
      ]
    },
    {
      "cell_type": "code",
      "metadata": {
        "id": "qatSc4AYc5so"
      },
      "source": [
        "import pandas as pd\n",
        "import os\n",
        "def get_data_from_csv(anomaly_name):\n",
        "  for filename in os.listdir('./gdrive/MyDrive/Road_Anomalies_Datasets/Acceleromter_data2/data/'+anomaly_name+'/'):\n",
        "    #print(filename)\n",
        "    if filename.endswith(\".csv\"): \n",
        "      filename = os.path.join('./gdrive/MyDrive/Road_Anomalies_Datasets/Acceleromter_data2/data/'+anomaly_name+'/', filename)\n",
        "      data = pd.read_csv(filename, header=0)\n",
        "      rot_acc_z = list(data.acc_z)       \n",
        "      sliding_window_list = window(rot_acc_z,copy = True)\n",
        "      for j,sublist in enumerate(sliding_window_list):\n",
        "        #mean = sum(sublist) / len(sublist) #Mean\n",
        "        features=extract_features(sublist,t=True,f=False,wa=True)\n",
        "        label=anomaly_name\n",
        "        d.append([item for item in features]+[label])\n"
      ],
      "execution_count": null,
      "outputs": []
    },
    {
      "cell_type": "code",
      "metadata": {
        "colab": {
          "base_uri": "https://localhost:8080/"
        },
        "id": "1zRPtdKlLUTg",
        "outputId": "3a096f0b-7716-447d-bb59-f6537bd217fc"
      },
      "source": [
        "#def build_database2():\n",
        "d=[]\n",
        "get_data_from_csv('asphalt_bumps')\n",
        "get_data_from_csv('metal_bumps')\n",
        "get_data_from_csv('potholes')\n",
        "get_data_from_csv('regular_road')\n",
        "get_data_from_csv('worn_out_road')\n",
        "df3 = pd.DataFrame(d, columns=feature_names)\n",
        "X_train, X_test, y_train, y_test = train_test_split(df3.iloc[:,[i for i in range(0,24)]],\n",
        "                                                      df3['Anomaly'], test_size=0.3,random_state=109) # 70% training and 30% test\n",
        "clf = MLPClassifier(random_state=1, max_iter=300)\n",
        "#clf = svm.SVC(C=1,kernel='rbf',gamma=0.002,tol=0.001)\n",
        "#clf = DecisionTreeClassifier(random_state=0)\n",
        "clf.fit(X_train, y_train)\n",
        "\n",
        "#Predict the response for test dataset\n",
        "y_pred = clf.predict(X_test)\n",
        "print(\"test for w=\",w)\n",
        "print(\"*******************************************************************************************************************\")\n",
        "print(\"Accuracy:\",metrics.accuracy_score(y_test, y_pred))\n",
        "# Model Precision: what percentage of positive tuples are labeled as such?\n",
        "print(\"Precision:\",metrics.precision_score(y_test, y_pred,average='macro'))\n",
        "\n",
        "# Model Recall: what percentage of positive tuples are labelled as such?\n",
        "print(\"Recall:\",metrics.recall_score(y_test, y_pred,average='macro'))\n",
        "print(\"F1 score:\",metrics.f1_score(y_test, y_pred,average='macro'))\n",
        "#print(metrics.classification_report(y_test, y_pred, target_names=['asphalt_bumps', 'metal_bumps', 'potholes', 'regular_road', 'worn_out_road'],\n",
        "#sample_weight=None, digits=2, output_dict=False, zero_division='warn')) \n"
      ],
      "execution_count": null,
      "outputs": [
        {
          "output_type": "stream",
          "text": [
            "test for w= 30\n",
            "*******************************************************************************************************************\n",
            "Accuracy: 0.5253164556962026\n",
            "Precision: 0.5437720702676119\n",
            "Recall: 0.44720059030243986\n",
            "F1 score: 0.4493860336913863\n"
          ],
          "name": "stdout"
        }
      ]
    },
    {
      "cell_type": "code",
      "metadata": {
        "id": "INOFrWYelcy7"
      },
      "source": [
        "d=[]\n"
      ],
      "execution_count": null,
      "outputs": []
    },
    {
      "cell_type": "code",
      "metadata": {
        "id": "-OEyotsi6xqP"
      },
      "source": [
        "CM=metrics.confusion_matrix(y_test, y_pred, labels=None)"
      ],
      "execution_count": null,
      "outputs": []
    },
    {
      "cell_type": "code",
      "metadata": {
        "colab": {
          "base_uri": "https://localhost:8080/",
          "height": 467
        },
        "id": "RsCER5b37kCu",
        "outputId": "76fe7c49-e2e0-47f2-cbe2-2498a59bd041"
      },
      "source": [
        "plot_confusion_matrix(CM,target_names=['asphalt_bumps', 'metal_bumps', 'potholes', 'regular_road', 'worn_out_road'],title='Confusion matrix',cmap=None,normalize=True)"
      ],
      "execution_count": null,
      "outputs": [
        {
          "output_type": "display_data",
          "data": {
            "image/png": "[encoded data removed]",
            "text/plain": [
              "<Figure size 576x432 with 2 Axes>"
            ]
          },
          "metadata": {
            "tags": [],
            "needs_background": "light"
          }
        }
      ]
    },
    {
      "cell_type": "code",
      "metadata": {
        "id": "EtQ1AcLM6CCC"
      },
      "source": [
        "# Import train_test_split function\n",
        "from sklearn.model_selection import train_test_split\n",
        "# Split dataset into training set and test set\n",
        "X_train, X_test, y_train, y_test = train_test_split(df1.iloc[:,[i for i in range(1,31)]], df1['Anomaly'], test_size=0.3,random_state=109) # 70% training and 30% test"
      ],
      "execution_count": null,
      "outputs": []
    },
    {
      "cell_type": "code",
      "metadata": {
        "id": "k3-unhA6-_WC"
      },
      "source": [
        "df[~df.isin([np.nan, np.inf, -np.inf]).any(1)]"
      ],
      "execution_count": null,
      "outputs": []
    },
    {
      "cell_type": "code",
      "metadata": {
        "id": "rYVKr9kobRtS"
      },
      "source": [
        "#Import svm model\n",
        "from sklearn import svm\n",
        "from sklearn import metrics\n",
        "from sklearn.metrics import confusion_matrix\n",
        "\n",
        "\n",
        "#Create a svm Classifier\n",
        "#clf = svm.SVC(kernel='linear') # Linear Kernel\n",
        "#clf = svm.SVC(C=1,kernel='rbf',gamma=0.002,tol=0.001)\n",
        "clf = DecisionTreeClassifier(random_state=0)\n",
        "#clf = MLPClassifier(random_state=1, max_iter=300)\n",
        "#Train the model using the training sets\n",
        "#X_train.astype(np.float64)\n",
        "#X_train.applymap(np.absolute)\n",
        "clf.fit(X_train, y_train)\n",
        "\n",
        "#Predict the response for test dataset\n",
        "y_pred = clf.predict(X_test)\n"
      ],
      "execution_count": null,
      "outputs": []
    },
    {
      "cell_type": "code",
      "metadata": {
        "id": "BFxyVBKu6h8Z"
      },
      "source": [
        ""
      ],
      "execution_count": null,
      "outputs": []
    },
    {
      "cell_type": "code",
      "metadata": {
        "colab": {
          "base_uri": "https://localhost:8080/"
        },
        "id": "QF3KVaZgp43P",
        "outputId": "abbf20f9-e48e-4078-a44a-1cb42e6fca40"
      },
      "source": [
        "print(\"Accuracy:\",metrics.accuracy_score(y_test, y_pred))\n",
        "# Model Precision: what percentage of positive tuples are labeled as such?\n",
        "print(\"Precision:\",metrics.precision_score(y_test, y_pred,average='macro'))\n",
        "\n",
        "# Model Recall: what percentage of positive tuples are labelled as such?\n",
        "print(\"Recall:\",metrics.recall_score(y_test, y_pred,average='macro'))\n",
        "print(\"F1 score:\",metrics.f1_score(y_test, y_pred,average='macro'))\n",
        "print(metrics.classification_report(y_test, y_pred, target_names=['no anomaly', 'Bache', 'Bordo', 'Boyas'], sample_weight=None, digits=2, output_dict=False, zero_division='warn'))"
      ],
      "execution_count": null,
      "outputs": [
        {
          "output_type": "stream",
          "text": [
            "Accuracy: 0.9470802919708029\n",
            "Precision: 0.4106629720853859\n",
            "Recall: 0.4266399683861516\n",
            "F1 score: 0.4178110377356807\n",
            "              precision    recall  f1-score   support\n",
            "\n",
            "  no anomaly       0.11      0.11      0.11         9\n",
            "       Bache       0.43      0.45      0.44        33\n",
            "       Bordo       0.12      0.17      0.14         6\n",
            "       Boyas       0.98      0.97      0.98      1048\n",
            "\n",
            "    accuracy                           0.95      1096\n",
            "   macro avg       0.41      0.43      0.42      1096\n",
            "weighted avg       0.95      0.95      0.95      1096\n",
            "\n"
          ],
          "name": "stdout"
        }
      ]
    },
    {
      "cell_type": "code",
      "metadata": {
        "id": "HujH7ZCk_ofg"
      },
      "source": [
        "import numpy as np\n",
        "\n",
        "\n",
        "def plot_confusion_matrix(cm,\n",
        "                          target_names,\n",
        "                          title='Confusion matrix',\n",
        "                          cmap=None,\n",
        "                          normalize=True):\n",
        "    \"\"\"\n",
        "    given a sklearn confusion matrix (cm), make a nice plot\n",
        "\n",
        "    Arguments\n",
        "    ---------\n",
        "    cm:           confusion matrix from sklearn.metrics.confusion_matrix\n",
        "\n",
        "    target_names: given classification classes such as [0, 1, 2]\n",
        "                  the class names, for example: ['high', 'medium', 'low']\n",
        "\n",
        "    title:        the text to display at the top of the matrix\n",
        "\n",
        "    cmap:         the gradient of the values displayed from matplotlib.pyplot.cm\n",
        "                  see http://matplotlib.org/examples/color/colormaps_reference.html\n",
        "                  plt.get_cmap('jet') or plt.cm.Blues\n",
        "\n",
        "    normalize:    If False, plot the raw numbers\n",
        "                  If True, plot the proportions\n",
        "\n",
        "    Usage\n",
        "    -----\n",
        "    plot_confusion_matrix(cm           = cm,                  # confusion matrix created by\n",
        "                                                              # sklearn.metrics.confusion_matrix\n",
        "                          normalize    = True,                # show proportions\n",
        "                          target_names = y_labels_vals,       # list of names of the classes\n",
        "                          title        = best_estimator_name) # title of graph\n",
        "\n",
        "    Citiation\n",
        "    ---------\n",
        "    http://scikit-learn.org/stable/auto_examples/model_selection/plot_confusion_matrix.html\n",
        "\n",
        "    \"\"\"\n",
        "    import matplotlib.pyplot as plt\n",
        "    import numpy as np\n",
        "    import itertools\n",
        "\n",
        "    accuracy = np.trace(cm) / float(np.sum(cm))\n",
        "    misclass = 1 - accuracy\n",
        "\n",
        "    if cmap is None:\n",
        "        cmap = plt.get_cmap('Blues')\n",
        "\n",
        "    plt.figure(figsize=(8, 6))\n",
        "    plt.imshow(cm, interpolation='nearest', cmap=cmap)\n",
        "    plt.title(title)\n",
        "    plt.colorbar()\n",
        "\n",
        "    if target_names is not None:\n",
        "        tick_marks = np.arange(len(target_names))\n",
        "        plt.xticks(tick_marks, target_names, rotation=45)\n",
        "        plt.yticks(tick_marks, target_names)\n",
        "\n",
        "    if normalize:\n",
        "        cm = cm.astype('float') / cm.sum(axis=1)[:, np.newaxis]\n",
        "\n",
        "\n",
        "    thresh = cm.max() / 1.5 if normalize else cm.max() / 2\n",
        "    for i, j in itertools.product(range(cm.shape[0]), range(cm.shape[1])):\n",
        "        if normalize:\n",
        "            plt.text(j, i, \"{:0.4f}\".format(cm[i, j]),\n",
        "                     horizontalalignment=\"center\",\n",
        "                     color=\"white\" if cm[i, j] > thresh else \"black\")\n",
        "        else:\n",
        "            plt.text(j, i, \"{:,}\".format(cm[i, j]),\n",
        "                     horizontalalignment=\"center\",\n",
        "                     color=\"white\" if cm[i, j] > thresh else \"black\")\n",
        "\n",
        "\n",
        "    plt.tight_layout()\n",
        "    plt.ylabel('True label')\n",
        "    #plt.xlabel('Predicted label\\naccuracy={:0.4f}; misclass={:0.4f}'.format(accuracy, misclass))\n",
        "    plt.xlabel('Predicted label\\naccuracy={:0.4f}; misclass={:0.4f}'.format(0.5253, 0.4747))\n",
        "    plt.show()"
      ],
      "execution_count": null,
      "outputs": []
    },
    {
      "cell_type": "code",
      "metadata": {
        "colab": {
          "base_uri": "https://localhost:8080/"
        },
        "id": "zVddw4b7qzyY",
        "outputId": "26b6c167-52ae-4b96-eac0-f4977efc6277"
      },
      "source": [
        "#Get the confusion matrix\n",
        "cm = confusion_matrix(y_test, y_pred)\n",
        "#Now the normalize the diagonal entries\n",
        "cm = cm.astype('float') / cm.sum(axis=1)[:, np.newaxis]\n",
        "#The diagonal entries are the accuracies of each class\n",
        "cm.diagonal()"
      ],
      "execution_count": null,
      "outputs": [
        {
          "output_type": "execute_result",
          "data": {
            "text/plain": [
              "array([0.06097561, 0.30430328, 0.04025424, 0.99304482])"
            ]
          },
          "metadata": {
            "tags": []
          },
          "execution_count": 194
        }
      ]
    },
    {
      "cell_type": "code",
      "metadata": {
        "colab": {
          "base_uri": "https://localhost:8080/"
        },
        "id": "MhpxKezgTj8x",
        "outputId": "8574bb90-4988-49d0-c25d-f414267830a5"
      },
      "source": [
        "!git init\n",
        "!git add README.md\n",
        "!git commit -m \"first commit\"\n",
        "!git branch -M main\n",
        "!git remote add origin https://github.com/imenFerjani/Road-Anomalies-Detection.git\n",
        "!git push -u origin main"
      ],
      "execution_count": 4,
      "outputs": [
        {
          "output_type": "stream",
          "text": [
            "Initialized empty Git repository in /content/.git/\n",
            "fatal: pathspec 'README.md' did not match any files\n",
            "\n",
            "*** Please tell me who you are.\n",
            "\n",
            "Run\n",
            "\n",
            "  git config --global user.email \"you@example.com\"\n",
            "  git config --global user.name \"Your Name\"\n",
            "\n",
            "to set your account's default identity.\n",
            "Omit --global to set the identity only in this repository.\n",
            "\n",
            "fatal: unable to auto-detect email address (got 'root@2083d6693b2d.(none)')\n",
            "error: refname refs/heads/master not found\n",
            "fatal: Branch rename failed\n",
            "error: src refspec main does not match any.\n",
            "error: failed to push some refs to 'https://github.com/imenFerjani/Road-Anomalies-Detection.git'\n"
          ],
          "name": "stdout"
        }
      ]
    }
  ]
}